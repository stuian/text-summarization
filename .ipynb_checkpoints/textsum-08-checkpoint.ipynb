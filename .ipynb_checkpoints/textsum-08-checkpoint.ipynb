{
 "cells": [
  {
   "cell_type": "markdown",
   "metadata": {},
   "source": [
    "## 文本摘要综述之论文笔记\n",
    "\n",
    "> Generating Wikipendia By Summarizing Long\n",
    "\n",
    "> 参考连接：\n",
    "\n",
    "> [学界 | 谷歌大脑提出通过多文档摘要方法生成维基百科，可处理较长序列](http://www.sohu.com/a/222192603_129720)"
   ]
  },
  {
   "cell_type": "code",
   "execution_count": null,
   "metadata": {},
   "outputs": [],
   "source": []
  }
 ],
 "metadata": {
  "kernelspec": {
   "display_name": "Python 3",
   "language": "python",
   "name": "python3"
  },
  "language_info": {
   "codemirror_mode": {
    "name": "ipython",
    "version": 3
   },
   "file_extension": ".py",
   "mimetype": "text/x-python",
   "name": "python",
   "nbconvert_exporter": "python",
   "pygments_lexer": "ipython3",
   "version": "3.6.4"
  }
 },
 "nbformat": 4,
 "nbformat_minor": 2
}
