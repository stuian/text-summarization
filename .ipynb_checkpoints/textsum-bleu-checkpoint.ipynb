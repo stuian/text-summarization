{
 "cells": [
  {
   "cell_type": "markdown",
   "metadata": {},
   "source": [
    "## 自动文摘的评价方法-Bleu\n",
    "> [BLEU: a Method for Automatic Evaluation of Machine Translation](https://www.aclweb.org/anthology/P02-1040.pdf)\n",
    "\n",
    "> [参考文章](https://blog.csdn.net/qq_31584157/article/details/77709454)"
   ]
  },
  {
   "cell_type": "markdown",
   "metadata": {},
   "source": [
    "为了节省人力资本和时间，提出的一种对机器翻译结果进行评价的方法。\n"
   ]
  },
  {
   "cell_type": "markdown",
   "metadata": {},
   "source": [
    "### 1.1 baseline metric in detail\n",
    "\n",
    "下面所有方法以这个例子展开：\n",
    "\n",
    "![example](https://github.com/stuian/text-summarization/blob/master/pictures/1.png?raw=true)"
   ]
  },
  {
   "cell_type": "markdown",
   "metadata": {},
   "source": [
    "#### 1.1.1 standard n-gram precision\n",
    "比较候选翻译（机器翻译出来的结果）和参考翻译的n-grams，并计算匹配的个数，这样的匹配不考虑位置，越多翻译越好。为了方便，我们一般计算unigram的准确度。\n",
    "以上面的例子为例，计算**standard uigram precision** = 7 / 7 = 1\n",
    "> 分母为候选翻译的个数（7个），分子为候选翻译的unigram是否在参考翻译中出现的次数之和，由于分子的7个unigram全是‘the’，在参考翻译中有出现，所以分子为7，得出来的准确率是1，但我们知道这个翻译的结果是很差的。这种方法就是对于一些常用词，比如：the,of等不适用。所以要继续改进。"
   ]
  },
  {
   "cell_type": "markdown",
   "metadata": {},
   "source": [
    "#### 1.1.2 modified n-gram precision\n",
    "同样还是上面这个例子:**modified uigram precision** = 2 / 7\n",
    "\n",
    "分母没变，还是7，分子的计算方法有所改变：\n",
    "![分子1](https://github.com/stuian/text-summarization/blob/master/pictures/3.png?raw=true)\n",
    "![分子2](https://github.com/stuian/text-summarization/blob/master/pictures/4.png?raw=true)\n",
    "![explanition](https://github.com/stuian/text-summarization/blob/master/pictures/5.png?raw=true)"
   ]
  },
  {
   "cell_type": "markdown",
   "metadata": {},
   "source": [
    "#### 1.1.3 modified n-gram precision on blocks of text\n",
    "![equation](https://github.com/stuian/text-summarization/blob/master/pictures/6.png?raw=true)\n",
    "方法类似，可以把一个段落看出一个“句子”。其实在计算的时候它还是一句句计算n-gram的匹配个数。"
   ]
  },
  {
   "cell_type": "markdown",
   "metadata": {},
   "source": [
    "#### 1.1.4 combining the modified n-gram precisions\n",
    "根据统计，我们可以得到下图，随着n-gram的个数越来越多，准确率越低。但是我们知道n很小时，代表的是对翻译结果充分性的检验，n较大时，是对结果流畅性的检验，而两者都很重要，最好的办法就是把它们结合起来使用。\n",
    "![precision](https://github.com/stuian/text-summarization/blob/master/pictures/7.png?raw=true)\n",
    "\n",
    "这里我们可以采用几何加权平均的方法。\n",
    "![加权平均](https://github.com/stuian/text-summarization/blob/master/pictures/8.png?raw=true)\n",
    "> 我们设定n-gram同等重要，最终得出的P(pave)等于P1,P2...Pn的乘积开n次方。\n",
    "\n",
    "文中最终的P(pave)等于：\n",
    "![10](https://github.com/stuian/text-summarization/blob/master/pictures/10.png?raw=true)"
   ]
  },
  {
   "cell_type": "markdown",
   "metadata": {},
   "source": [
    "#### 1.1.5 penalty of sentence length\n",
    "候选翻译句子太短或太长都不太好，所以我们需要对这样的句子进行设置一个惩罚因子：\n",
    "![penalty](https://github.com/stuian/text-summarization/blob/master/pictures/9.png?raw=true)\n",
    "> c是候选翻译的长度，r是参考翻译的长度。\n",
    "结合前面得出的combining the modified n-gram precisions和BP因子，最终得到BLEU的表达式如下：\n",
    "\n",
    "![11](https://github.com/stuian/text-summarization/blob/master/pictures/11.png?raw=true)\n",
    "![12](https://github.com/stuian/text-summarization/blob/master/pictures/12.png?raw=true)"
   ]
  },
  {
   "cell_type": "markdown",
   "metadata": {},
   "source": [
    "### 1.2 evaluate the performance of BLEU"
   ]
  }
 ],
 "metadata": {
  "kernelspec": {
   "display_name": "Python 3",
   "language": "python",
   "name": "python3"
  },
  "language_info": {
   "codemirror_mode": {
    "name": "ipython",
    "version": 3
   },
   "file_extension": ".py",
   "mimetype": "text/x-python",
   "name": "python",
   "nbconvert_exporter": "python",
   "pygments_lexer": "ipython3",
   "version": "3.6.4"
  }
 },
 "nbformat": 4,
 "nbformat_minor": 2
}
