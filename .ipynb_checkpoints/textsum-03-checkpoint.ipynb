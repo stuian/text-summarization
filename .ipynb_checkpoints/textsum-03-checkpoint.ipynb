{
 "cells": [
  {
   "cell_type": "markdown",
   "metadata": {},
   "source": [
    "## 文本摘要综述（三）之论文笔记\n",
    ">1、 [Ranking with Recursive Neural Networks and\n",
    "Its Application to Multi-Document Summarization](https://www.aaai.org/ocs/index.php/AAAI/AAAI15/paper/download/9414/9520)\n",
    "\n",
    "> 2、实验室面试的时候讲的就是这篇文章，当时的[ppt](链接：https://pan.baidu.com/s/1DPVGcaZ-FG2il9n3cXFHWw); (密码：8fgd)\n",
    "\n",
    "> 3、[recursive neural network](https://blog.csdn.net/aliceyangxi1987/article/details/71055237)"
   ]
  },
  {
   "cell_type": "markdown",
   "metadata": {},
   "source": [
    "本篇文章提出了一种新的模型，作者命名为R2N2,模型思路主要分为两部分：sentence ranking和sentence selection。数据集是DUC2001，2002和2004."
   ]
  },
  {
   "attachments": {
    "image.png": {
     "image/png": "[encoded data removed]"
    }
   },
   "cell_type": "markdown",
   "metadata": {},
   "source": [
    "### 1.1 A Example R2N2\n",
    "![1](https://github.com/stuian/text-summarization/blob/master/pictures/3/1.jpg?raw=true)\n",
    "![image.png](attachment:image.png)"
   ]
  },
  {
   "cell_type": "markdown",
   "metadata": {},
   "source": [
    "1、R2N2 uses handcrafted word features as inputs\n",
    "\n",
    "2、In the forward propagation Step\n",
    "-  it recursively computes the representation of a parent\n",
    "node with the combination of its pair of children.\n",
    "- Then regression is processed at all the non-terminal nodes, based on\n",
    "the learned features concatenating these hand-crafted ones."
   ]
  },
  {
   "cell_type": "markdown",
   "metadata": {},
   "source": [
    "### Recursive neural network和Recurrent neural network的区别\n",
    "![recursive](http://upload-images.jianshu.io/upload_images/1667471-0751851caf61250b.png?imageMogr2/auto-orient/strip%7CimageView2/2/w/1240)\n",
    "\n",
    "> 前一个是Recursive neural network，后一个是Recurrent neural network\n",
    "\n",
    "Recursive NN 可以返回树上每个节点的向量表达，Recurrent NN 在任何时候返回一句话的向量。"
   ]
  }
 ],
 "metadata": {
  "kernelspec": {
   "display_name": "Python 3",
   "language": "python",
   "name": "python3"
  },
  "language_info": {
   "codemirror_mode": {
    "name": "ipython",
    "version": 3
   },
   "file_extension": ".py",
   "mimetype": "text/x-python",
   "name": "python",
   "nbconvert_exporter": "python",
   "pygments_lexer": "ipython3",
   "version": "3.6.4"
  }
 },
 "nbformat": 4,
 "nbformat_minor": 2
}
