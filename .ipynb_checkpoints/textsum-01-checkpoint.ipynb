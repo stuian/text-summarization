{
 "cells": [
  {
   "cell_type": "markdown",
   "metadata": {},
   "source": [
    "# 文本摘要综述（一）"
   ]
  },
  {
   "cell_type": "markdown",
   "metadata": {},
   "source": [
    "学习文本摘要也有大半年了，囫囵吞枣的也看了些论文，但是却很难回想起很多论文里的具体内容，所以想做一些笔记感想来记录一下，以便后期回顾。"
   ]
  },
  {
   "cell_type": "markdown",
   "metadata": {},
   "source": [
    "文本摘要的概念：简单来说，就是用精炼的文字（一般称之为摘要）概括一篇文章或者一大段文档。\n",
    "目前解决问题的思路主要分为两种：抽取式和生成式。\n",
    "- 抽取式：原封不动地从文章里抽取出能表达全文中心思想的语句，组合成最终的摘要。\n",
    "- 生成式：理解文章的意思，概括出摘要。\n",
    "> 目前生成式的方法比较流行，但是受限还比较多。"
   ]
  },
  {
   "cell_type": "markdown",
   "metadata": {},
   "source": [
    "文本一些预处理的方法"
   ]
  }
 ],
 "metadata": {
  "kernelspec": {
   "display_name": "Python 3",
   "language": "python",
   "name": "python3"
  },
  "language_info": {
   "codemirror_mode": {
    "name": "ipython",
    "version": 3
   },
   "file_extension": ".py",
   "mimetype": "text/x-python",
   "name": "python",
   "nbconvert_exporter": "python",
   "pygments_lexer": "ipython3",
   "version": "3.6.4"
  }
 },
 "nbformat": 4,
 "nbformat_minor": 2
}
