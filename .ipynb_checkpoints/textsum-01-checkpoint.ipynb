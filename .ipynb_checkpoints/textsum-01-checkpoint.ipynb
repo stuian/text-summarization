{
 "cells": [
  {
   "cell_type": "markdown",
   "metadata": {},
   "source": [
    "# 文本摘要综述（一）"
   ]
  },
  {
   "cell_type": "markdown",
   "metadata": {},
   "source": [
    "学习文本摘要也有大半年了，囫囵吞枣的也看了些论文，但是却很难回想起很多论文里的具体内容，所以想做一些笔记感想来记录一下，以便后期回顾。"
   ]
  },
  {
   "cell_type": "markdown",
   "metadata": {},
   "source": [
    "### 1.1 文本摘要的概念:\n",
    "简单来说，就是用精炼的文字（一般称之为摘要）概括一篇文章或者一大段文档。\n",
    "目前解决问题的思路主要分为两种：抽取式和生成式。\n",
    "- 抽取式：原封不动地从文章里抽取出能表达全文中心思想的语句，组合成最终的摘要。\n",
    "- 生成式：理解文章的意思，概括出摘要。\n",
    "> 目前生成式的方法比较流行，但是受限还比较多。"
   ]
  },
  {
   "cell_type": "markdown",
   "metadata": {},
   "source": [
    "### 1.2 文本一些预处理的方法\n",
    "- 将文本分句（逗号，句号等其他结束符号）\n",
    "- 将句子分词（英文以空格分隔，中文分词需要使用一些工具比如：jieba分词，得出的分词比如：北京，是一个词）\n",
    "- 将词或句子用数值向量或矩阵表示\n",
    "    - Bag of words\n",
    "    - TFIDF\n",
    "    - LDA/LSI\n",
    "    - Word Embedding"
   ]
  },
  {
   "cell_type": "markdown",
   "metadata": {},
   "source": [
    "### 1.3 抽取式文本摘要\n",
    "抽取式的思想主要是给句子排序，用前面提到的预处理的方法，将句子用向量表示以后，使用一些排序算法给每个句子一个得分，最终得出分数排名前几的句子作为文本的摘要。下面主要介绍两种方法。\n",
    "\n",
    "#### 1.3.1 基于图排序\n",
    "把每个句子作为一个节点，通过计算两个句子之间的相似度作为节点相连的边的权重，最终构成图模型，用pagerank（google搜索引擎给网页排序的算法）算法进行求解，最终得出句子的得分。\n",
    "> 代表算法有TextRank和LexRank\n",
    "\n",
    "#### 1.3.2 给予特征\n",
    "主要的特征有：\n",
    "- 句子长度\n",
    "- 句子的位置\n",
    "- 句子是否包含标题词\n",
    "- 句子关键词打分\n",
    "> 代表算法是TextTeaser"
   ]
  },
  {
   "cell_type": "markdown",
   "metadata": {},
   "source": [
    "### 1.4 生成式文本摘要\n",
    "生成式最流行的方法要属sequence-to-sequence加attention机制了，此后的几年研究，一直到现在（2018年）基本都是在此模型的基础上不断的改进和变换。大致模型长下面这个样子：\n",
    "![seq2seq](https://img-blog.csdn.net/20170509152556448?watermark/2/text/aHR0cDovL2Jsb2cuY3Nkbi5uZXQvSmVycl9feQ==/font/5a6L5L2T/fontsize/400/fill/I0JBQkFCMA==/dissolve/70/gravity/SouthEast)"
   ]
  },
  {
   "cell_type": "markdown",
   "metadata": {},
   "source": [
    "> x1，x2等表示一个个词，将所有的词依次输入模型，最后形成了一个总的向量C（包含所有词的一些信息），然后再根据C输出一个一个y1，y2等。该模型还可以用于机器翻译。"
   ]
  },
  {
   "cell_type": "markdown",
   "metadata": {},
   "source": [
    "### 1.5 最后\n",
    "本文章只是大致简述一下文本摘要，之后的文章会就我看过的一些论文进行介绍。\n",
    "\n",
    "> 别人的综述: \n",
    "\n",
    "> [Text Summarization 综述](https://blog.csdn.net/zhangxb35/article/details/78626799)\n",
    "\n",
    "> [paperweekly](http://rsarxiv.github.io/tags/%E8%87%AA%E5%8A%A8%E6%96%87%E6%91%98/)"
   ]
  }
 ],
 "metadata": {
  "kernelspec": {
   "display_name": "Python 3",
   "language": "python",
   "name": "python3"
  },
  "language_info": {
   "codemirror_mode": {
    "name": "ipython",
    "version": 3
   },
   "file_extension": ".py",
   "mimetype": "text/x-python",
   "name": "python",
   "nbconvert_exporter": "python",
   "pygments_lexer": "ipython3",
   "version": "3.6.4"
  }
 },
 "nbformat": 4,
 "nbformat_minor": 2
}
